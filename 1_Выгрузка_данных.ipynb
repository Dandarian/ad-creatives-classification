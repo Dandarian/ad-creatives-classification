{
 "cells": [
  {
   "cell_type": "code",
   "execution_count": 1729,
   "metadata": {},
   "outputs": [],
   "source": [
    "import pandas as pd\n",
    "import mysql.connector"
   ]
  },
  {
   "cell_type": "markdown",
   "metadata": {
    "hide_input": true
   },
   "source": [
    "# Задача. Сделать классификатор по категориям рекламных роликов на основе их текстовых описаний."
   ]
  },
  {
   "cell_type": "markdown",
   "metadata": {
    "hide_input": true
   },
   "source": [
    "# 1.. Формирование датасета из таблиц MySQL."
   ]
  },
  {
   "cell_type": "markdown",
   "metadata": {},
   "source": [
    "## 1..1.. Подключение к бд."
   ]
  },
  {
   "cell_type": "code",
   "execution_count": null,
   "metadata": {},
   "outputs": [],
   "source": [
    "# Реальные значения скрыты\n",
    "DB_CONFIG = {\n",
    "    'user': ***,\n",
    "    'password': ***,\n",
    "    'host': ***,\n",
    "    'database': ***,\n",
    "    'raise_on_warnings': False,\n",
    "    'charset': 'utf8'\n",
    "}\n",
    "\n",
    "cnx = mysql.connector.connect(**DB_CONFIG)\n",
    "cursor = cnx.cursor()"
   ]
  },
  {
   "attachments": {},
   "cell_type": "markdown",
   "metadata": {},
   "source": [
    "Описания полей таблицы external_creatives  \n",
    "  \n",
    "Таблица содержит информацию о рекламных креативах.  \n",
    "Имеет очень большое количество полей,  \n",
    "но нас интересуют только поля содержащие текстовую информацию:\n",
    "\n",
    "- category_id - категория, к которой относится рекламный креатив. Целевая переменная. (Например Food & Drinks или Hobbies)\n",
    "- title - заголовок рекламаного креатива, обычно это название рекламируемого продукта.\n",
    "- description - описание рекламного ролика, более подробная информация о ролике и продукте.  \n",
    "- adomain - домен рекламодателя, зачастую содержит название продукта.\n",
    "- bundle - наименование бандла, также может содержать название продукта.\n",
    "- vast - Video Ad Serving Template в формате xml, имеет подстроку AdTitle\n",
    "- vast_origin - другой вариант васта, также имеет подстроку AdTitle"
   ]
  },
  {
   "attachments": {},
   "cell_type": "markdown",
   "metadata": {},
   "source": [
    "Описания полей таблицы categories \n",
    "   \n",
    "В таблице id категорий соответствуют их коду и словесному названию  \n",
    "\n",
    "- id\n",
    "- parent_id - для подкатегорий, id родительской категории.\n",
    "- iab_code - код категории по спецификации OpenRTB.  \n",
    "- name - наименование категории."
   ]
  },
  {
   "cell_type": "code",
   "execution_count": 181,
   "metadata": {},
   "outputs": [
    {
     "data": {
      "text/plain": [
       "[(1, 0, 'IAB1', 'Arts & Entertainment'),\n",
       " (2, 1, 'IAB1-1', 'Books & Literature'),\n",
       " (3, 1, 'IAB1-2', 'Celebrity Fan/Gossip'),\n",
       " (4, 1, 'IAB1-3', 'Fine Art'),\n",
       " (5, 1, 'IAB1-4', 'Humor')]"
      ]
     },
     "execution_count": 181,
     "metadata": {},
     "output_type": "execute_result"
    }
   ],
   "source": [
    "query = (\"SELECT * FROM categories LIMIT 5\")\n",
    "\n",
    "cursor.execute(query)\n",
    "result = cursor.fetchall()\n",
    "result"
   ]
  },
  {
   "cell_type": "markdown",
   "metadata": {},
   "source": [
    "## 1..2.. Анализ таблиц в бд."
   ]
  },
  {
   "attachments": {},
   "cell_type": "markdown",
   "metadata": {},
   "source": [
    "Основные признаки, содержащие текстовую информацию -- это title и description.  \n",
    "Также могут быть полезны adomain, bundle. И подстрока AdTitle у vast, vast_origin."
   ]
  },
  {
   "cell_type": "code",
   "execution_count": 182,
   "metadata": {},
   "outputs": [
    {
     "data": {
      "text/plain": [
       "[(618643,)]"
      ]
     },
     "execution_count": 182,
     "metadata": {},
     "output_type": "execute_result"
    }
   ],
   "source": [
    "# Размер всего датасета\n",
    "query = (\"SELECT count(*) FROM external_creatives;\")\n",
    "\n",
    "cursor.execute(query)\n",
    "result = cursor.fetchall()\n",
    "result"
   ]
  },
  {
   "cell_type": "code",
   "execution_count": 183,
   "metadata": {},
   "outputs": [
    {
     "data": {
      "text/plain": [
       "[(279298,)]"
      ]
     },
     "execution_count": 183,
     "metadata": {},
     "output_type": "execute_result"
    }
   ],
   "source": [
    "# Количество строк, содержащих непустые title или description\n",
    "query = (\"SELECT count(*) FROM external_creatives WHERE title!='' OR description!='';\")\n",
    "\n",
    "cursor.execute(query)\n",
    "result = cursor.fetchall()\n",
    "result"
   ]
  },
  {
   "cell_type": "code",
   "execution_count": 184,
   "metadata": {},
   "outputs": [
    {
     "data": {
      "text/plain": [
       "[(381253,)]"
      ]
     },
     "execution_count": 184,
     "metadata": {},
     "output_type": "execute_result"
    }
   ],
   "source": [
    "# Количество строк c пустыми title или description, но непустыми adomain, bundle\n",
    "query = (\"SELECT count(*) FROM external_creatives WHERE title!='' OR description!=''\"\n",
    "         \"OR bundle!='' OR adomain!='';\")\n",
    "\n",
    "cursor.execute(query)\n",
    "result = cursor.fetchall()\n",
    "result"
   ]
  },
  {
   "cell_type": "code",
   "execution_count": 186,
   "metadata": {},
   "outputs": [
    {
     "data": {
      "text/plain": [
       "[(616260,)]"
      ]
     },
     "execution_count": 186,
     "metadata": {},
     "output_type": "execute_result"
    }
   ],
   "source": [
    "# Количество строк c AdTitle, содержащими полезную информацию\n",
    "query = (\"SELECT count(*) FROM external_creatives WHERE vast not like \"\n",
    "         \"'%<AdTitle>Linear Video Ad</AdTitle>%' OR vast_origin not like \"\n",
    "         \"'%<AdTitle>Linear Video Ad</AdTitle>%';\")\n",
    "\n",
    "cursor.execute(query)\n",
    "result = cursor.fetchall()\n",
    "result"
   ]
  },
  {
   "cell_type": "code",
   "execution_count": 185,
   "metadata": {},
   "outputs": [
    {
     "data": {
      "text/plain": [
       "[(171874,)]"
      ]
     },
     "execution_count": 185,
     "metadata": {},
     "output_type": "execute_result"
    }
   ],
   "source": [
    "# Количество строк c непустой категорией. Интересуют именно такие.\n",
    "query = (\"SELECT COUNT(*) FROM external_creatives WHERE category_id!=0;\")\n",
    "\n",
    "cursor.execute(query)\n",
    "result = cursor.fetchall()\n",
    "result"
   ]
  },
  {
   "cell_type": "code",
   "execution_count": 187,
   "metadata": {},
   "outputs": [
    {
     "data": {
      "text/plain": [
       "[(171870,)]"
      ]
     },
     "execution_count": 187,
     "metadata": {},
     "output_type": "execute_result"
    }
   ],
   "source": [
    "query = (\"SELECT COUNT(*)\"\n",
    "         \"FROM external_creatives \"\n",
    "         \"WHERE (title!='' OR description!='' OR bundle!='' OR adomain!='' \"\n",
    "         \"OR vast not like '%<AdTitle>Linear Video Ad</AdTitle>%' \"\n",
    "         \"OR vast_origin not like '%<AdTitle>Linear Video Ad</AdTitle>%') \"\n",
    "         \"AND category_id!=0\")\n",
    "\n",
    "cursor.execute(query)\n",
    "result = cursor.fetchall()\n",
    "result"
   ]
  },
  {
   "attachments": {},
   "cell_type": "markdown",
   "metadata": {},
   "source": [
    "Получили, что практически все строки с непустой категорией содержат текстовую информацию. Однако, vast и vast_origin содержат и много ненужной информации."
   ]
  },
  {
   "cell_type": "code",
   "execution_count": 188,
   "metadata": {},
   "outputs": [
    {
     "data": {
      "text/plain": [
       "[(171789,)]"
      ]
     },
     "execution_count": 188,
     "metadata": {},
     "output_type": "execute_result"
    }
   ],
   "source": [
    "query = (\"SELECT COUNT(*)\"\n",
    "         \"FROM external_creatives \"\n",
    "         \"WHERE (title!='' OR description!='' OR bundle!='' OR adomain!='') \"\n",
    "         \"AND category_id!=0\")\n",
    "\n",
    "cursor.execute(query)\n",
    "result = cursor.fetchall()\n",
    "result"
   ]
  },
  {
   "attachments": {},
   "cell_type": "markdown",
   "metadata": {},
   "source": [
    "Они составляют очень малую долю. Можно обойтись без vast и vast_origin."
   ]
  },
  {
   "cell_type": "code",
   "execution_count": 189,
   "metadata": {},
   "outputs": [
    {
     "data": {
      "text/plain": [
       "[(144027,)]"
      ]
     },
     "execution_count": 189,
     "metadata": {},
     "output_type": "execute_result"
    }
   ],
   "source": [
    "query = (\"SELECT COUNT(*)\"\n",
    "         \"FROM external_creatives \"\n",
    "         \"WHERE (title!='' OR description!='') \"\n",
    "         \"AND category_id!=0\")\n",
    "\n",
    "cursor.execute(query)\n",
    "result = cursor.fetchall()\n",
    "result"
   ]
  },
  {
   "attachments": {},
   "cell_type": "markdown",
   "metadata": {},
   "source": [
    "Без bundle и domain не обойтись."
   ]
  },
  {
   "cell_type": "markdown",
   "metadata": {},
   "source": [
    "## 1..3.. Создание датасета."
   ]
  },
  {
   "cell_type": "code",
   "execution_count": 191,
   "metadata": {},
   "outputs": [],
   "source": [
    "query = (\"SELECT id, title, description, adomain, bundle, category_id \"\n",
    "         \"FROM external_creatives \"\n",
    "         \"WHERE (title!='' OR description!='' OR bundle!='' OR adomain!='') \"\n",
    "         \"AND category_id!=0\")\n",
    "sql_query = pd.read_sql_query (query, cnx)\n",
    "\n",
    "df = pd.DataFrame(sql_query)"
   ]
  },
  {
   "cell_type": "code",
   "execution_count": 194,
   "metadata": {},
   "outputs": [],
   "source": [
    "# Преобразуем данные чтобы отображалась кириллица.\n",
    "for column in ['title', 'description']:\n",
    "    df[column] = df[column].apply(lambda x: x.decode(\"utf-8\", \"strict\"))"
   ]
  },
  {
   "cell_type": "markdown",
   "metadata": {},
   "source": [
    "## Получили итоговый датасет."
   ]
  },
  {
   "cell_type": "code",
   "execution_count": 196,
   "metadata": {},
   "outputs": [
    {
     "data": {
      "text/html": [
       "<div>\n",
       "<style scoped>\n",
       "    .dataframe tbody tr th:only-of-type {\n",
       "        vertical-align: middle;\n",
       "    }\n",
       "\n",
       "    .dataframe tbody tr th {\n",
       "        vertical-align: top;\n",
       "    }\n",
       "\n",
       "    .dataframe thead th {\n",
       "        text-align: right;\n",
       "    }\n",
       "</style>\n",
       "<table border=\"1\" class=\"dataframe\">\n",
       "  <thead>\n",
       "    <tr style=\"text-align: right;\">\n",
       "      <th></th>\n",
       "      <th>id</th>\n",
       "      <th>title</th>\n",
       "      <th>description</th>\n",
       "      <th>adomain</th>\n",
       "      <th>bundle</th>\n",
       "      <th>category_id</th>\n",
       "    </tr>\n",
       "  </thead>\n",
       "  <tbody>\n",
       "    <tr>\n",
       "      <th>0</th>\n",
       "      <td>28</td>\n",
       "      <td>Приложения в Google Play Строки от МТС</td>\n",
       "      <td>Книги, подкасты и аудиокниги</td>\n",
       "      <td>play.google.com</td>\n",
       "      <td></td>\n",
       "      <td>149</td>\n",
       "    </tr>\n",
       "    <tr>\n",
       "      <th>1</th>\n",
       "      <td>9540091</td>\n",
       "      <td>Мы главные по качеству. Убедитесь в этом сами ...</td>\n",
       "      <td>Мы главные по качеству. Мы гарантируем каждому...</td>\n",
       "      <td>vkusnoitochka.ru</td>\n",
       "      <td></td>\n",
       "      <td>1</td>\n",
       "    </tr>\n",
       "    <tr>\n",
       "      <th>2</th>\n",
       "      <td>27011430</td>\n",
       "      <td>Dodo Pizza - Apps on Google Play</td>\n",
       "      <td>Pizza delivery takeaway</td>\n",
       "      <td>play.google.com</td>\n",
       "      <td></td>\n",
       "      <td>149</td>\n",
       "    </tr>\n",
       "    <tr>\n",
       "      <th>3</th>\n",
       "      <td>64518523</td>\n",
       "      <td>Лента Онлайн доставка продуктов на дом, купить...</td>\n",
       "      <td>pageMetaDescription</td>\n",
       "      <td>online.lenta.com</td>\n",
       "      <td></td>\n",
       "      <td>363</td>\n",
       "    </tr>\n",
       "    <tr>\n",
       "      <th>4</th>\n",
       "      <td>112454260</td>\n",
       "      <td>Samokat: Food Delivery on the AppStore</td>\n",
       "      <td>Read reviews, compare customer ratings, see sc...</td>\n",
       "      <td>apps.apple.com</td>\n",
       "      <td></td>\n",
       "      <td>294</td>\n",
       "    </tr>\n",
       "    <tr>\n",
       "      <th>...</th>\n",
       "      <td>...</td>\n",
       "      <td>...</td>\n",
       "      <td>...</td>\n",
       "      <td>...</td>\n",
       "      <td>...</td>\n",
       "      <td>...</td>\n",
       "    </tr>\n",
       "    <tr>\n",
       "      <th>171784</th>\n",
       "      <td>360777318394</td>\n",
       "      <td>Township on the AppStore</td>\n",
       "      <td>Read reviews, compare customer ratings, see sc...</td>\n",
       "      <td>apps.apple.com</td>\n",
       "      <td></td>\n",
       "      <td>294</td>\n",
       "    </tr>\n",
       "    <tr>\n",
       "      <th>171785</th>\n",
       "      <td>360777318395</td>\n",
       "      <td>Clockmaker: Mystery Match 3 on the AppStore</td>\n",
       "      <td>Read reviews, compare customer ratings, see sc...</td>\n",
       "      <td>apps.apple.com</td>\n",
       "      <td></td>\n",
       "      <td>294</td>\n",
       "    </tr>\n",
       "    <tr>\n",
       "      <th>171786</th>\n",
       "      <td>360777318396</td>\n",
       "      <td>Casas Bahia: Compras Online - Apps on Google Play</td>\n",
       "      <td>Want to WIN PIX to cheer for Brazil Its not a ...</td>\n",
       "      <td>play.google.com</td>\n",
       "      <td></td>\n",
       "      <td>149</td>\n",
       "    </tr>\n",
       "    <tr>\n",
       "      <th>171787</th>\n",
       "      <td>360777318397</td>\n",
       "      <td>MISTPLAY: Play to earn rewards - Apps on Googl...</td>\n",
       "      <td>Collect units by playing games - exchange unit...</td>\n",
       "      <td>play.google.com</td>\n",
       "      <td></td>\n",
       "      <td>149</td>\n",
       "    </tr>\n",
       "    <tr>\n",
       "      <th>171788</th>\n",
       "      <td>360777318398</td>\n",
       "      <td>Township on the AppStore</td>\n",
       "      <td>Read reviews, compare customer ratings, see sc...</td>\n",
       "      <td>apps.apple.com</td>\n",
       "      <td></td>\n",
       "      <td>294</td>\n",
       "    </tr>\n",
       "  </tbody>\n",
       "</table>\n",
       "<p>171789 rows × 6 columns</p>\n",
       "</div>"
      ],
      "text/plain": [
       "                  id                                              title  \\\n",
       "0                 28             Приложения в Google Play Строки от МТС   \n",
       "1            9540091  Мы главные по качеству. Убедитесь в этом сами ...   \n",
       "2           27011430                   Dodo Pizza - Apps on Google Play   \n",
       "3           64518523  Лента Онлайн доставка продуктов на дом, купить...   \n",
       "4          112454260            Samokat: Food Delivery on the AppStore    \n",
       "...              ...                                                ...   \n",
       "171784  360777318394                          Township on the AppStore    \n",
       "171785  360777318395       Clockmaker: Mystery Match 3 on the AppStore    \n",
       "171786  360777318396  Casas Bahia: Compras Online - Apps on Google Play   \n",
       "171787  360777318397  MISTPLAY: Play to earn rewards - Apps on Googl...   \n",
       "171788  360777318398                          Township on the AppStore    \n",
       "\n",
       "                                              description           adomain  \\\n",
       "0                            Книги, подкасты и аудиокниги   play.google.com   \n",
       "1       Мы главные по качеству. Мы гарантируем каждому...  vkusnoitochka.ru   \n",
       "2                                 Pizza delivery takeaway   play.google.com   \n",
       "3                                     pageMetaDescription  online.lenta.com   \n",
       "4       Read reviews, compare customer ratings, see sc...    apps.apple.com   \n",
       "...                                                   ...               ...   \n",
       "171784  Read reviews, compare customer ratings, see sc...    apps.apple.com   \n",
       "171785  Read reviews, compare customer ratings, see sc...    apps.apple.com   \n",
       "171786  Want to WIN PIX to cheer for Brazil Its not a ...   play.google.com   \n",
       "171787  Collect units by playing games - exchange unit...   play.google.com   \n",
       "171788  Read reviews, compare customer ratings, see sc...    apps.apple.com   \n",
       "\n",
       "       bundle  category_id  \n",
       "0                      149  \n",
       "1                        1  \n",
       "2                      149  \n",
       "3                      363  \n",
       "4                      294  \n",
       "...       ...          ...  \n",
       "171784                 294  \n",
       "171785                 294  \n",
       "171786                 149  \n",
       "171787                 149  \n",
       "171788                 294  \n",
       "\n",
       "[171789 rows x 6 columns]"
      ]
     },
     "execution_count": 196,
     "metadata": {},
     "output_type": "execute_result"
    }
   ],
   "source": [
    "df"
   ]
  },
  {
   "cell_type": "code",
   "execution_count": 197,
   "metadata": {},
   "outputs": [
    {
     "name": "stdout",
     "output_type": "stream",
     "text": [
      "<class 'pandas.core.frame.DataFrame'>\n",
      "RangeIndex: 171789 entries, 0 to 171788\n",
      "Data columns (total 6 columns):\n",
      " #   Column       Non-Null Count   Dtype \n",
      "---  ------       --------------   ----- \n",
      " 0   id           171789 non-null  int64 \n",
      " 1   title        171789 non-null  object\n",
      " 2   description  171789 non-null  object\n",
      " 3   adomain      171789 non-null  object\n",
      " 4   bundle       171789 non-null  object\n",
      " 5   category_id  171789 non-null  int64 \n",
      "dtypes: int64(2), object(4)\n",
      "memory usage: 7.9+ MB\n"
     ]
    }
   ],
   "source": [
    "df.info()"
   ]
  },
  {
   "cell_type": "code",
   "execution_count": 198,
   "metadata": {},
   "outputs": [],
   "source": [
    "# Выгрузим его в csv.\n",
    "df.to_csv('df_origin.csv')"
   ]
  },
  {
   "cell_type": "code",
   "execution_count": null,
   "metadata": {},
   "outputs": [],
   "source": [
    "# Также и категории выгрузим в датасет.\n",
    "query = (\"SELECT * FROM categories\")\n",
    "sql_query = pd.read_sql_query (query, cnx)\n",
    "\n",
    "df_cats = pd.DataFrame(sql_query)"
   ]
  },
  {
   "cell_type": "code",
   "execution_count": null,
   "metadata": {},
   "outputs": [],
   "source": [
    "cursor.close()\n",
    "cnx.close()"
   ]
  },
  {
   "cell_type": "code",
   "execution_count": null,
   "metadata": {},
   "outputs": [],
   "source": [
    "df_cats.to_csv('df_cats.csv')"
   ]
  }
 ],
 "metadata": {
  "hide_input": false,
  "kernelspec": {
   "display_name": "creatives_classification",
   "language": "python",
   "name": "python3"
  },
  "language_info": {
   "codemirror_mode": {
    "name": "ipython",
    "version": 3
   },
   "file_extension": ".py",
   "mimetype": "text/x-python",
   "name": "python",
   "nbconvert_exporter": "python",
   "pygments_lexer": "ipython3",
   "version": "3.9.13"
  },
  "toc": {
   "base_numbering": 1,
   "nav_menu": {},
   "number_sections": true,
   "sideBar": true,
   "skip_h1_title": false,
   "title_cell": "Table of Contents",
   "title_sidebar": "Contents",
   "toc_cell": false,
   "toc_position": {},
   "toc_section_display": true,
   "toc_window_display": true
  },
  "vscode": {
   "interpreter": {
    "hash": "54422fa54cb364eab9887c6663ba5da7a119399c8259007ecec8155dace71516"
   }
  }
 },
 "nbformat": 4,
 "nbformat_minor": 4
}
